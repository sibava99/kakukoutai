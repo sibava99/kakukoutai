{
 "cells": [
  {
   "cell_type": "code",
   "execution_count": 6,
   "source": [
    "%cd ~/change\n",
    "import pickle\n",
    "with open('mclose.pickle',mode='rb') as f:\n",
    "    train_x = pickle.load(f)\n",
    "    train_y = pickle.load(f)"
   ],
   "outputs": [
    {
     "output_type": "stream",
     "name": "stdout",
     "text": [
      "/home/sibava/change\n"
     ]
    }
   ],
   "metadata": {}
  },
  {
   "cell_type": "code",
   "execution_count": 12,
   "source": [
    "m_train_x = []\n",
    "m_train_y = []\n",
    "l = len(train_x)\n",
    "i = 1\n",
    "k = 0\n",
    "t = [0] * 4\n",
    "# m_train_x = [[train_x[0][0],[train_x[0][1]],train_x[0][2],[train_x[0][3]]]]\n",
    "for i in range(l):\n",
    "    if((train_x[i][0] == train_x[i-1][0]) and (train_x[i][2] == train_x[i-1][2])):\n",
    "        m_train_x[-1][1].append(train_x[i][1])\n",
    "        m_train_x[-1][3].append(train_x[i][3])\n",
    "        m_train_y[-1].append(train_y[i])\n",
    "    else:\n",
    "        t = [0] * 4\n",
    "        t[0] = train_x[i][0]\n",
    "        t[1] = [train_x[i][1]]\n",
    "        t[2] = train_x[i][2]\n",
    "        t[3] = [train_x[i][3]]\n",
    "        m_train_x.append(t)\n",
    "        m_train_y.append([train_y[i]])\n",
    "        k += 1"
   ],
   "outputs": [],
   "metadata": {}
  },
  {
   "cell_type": "code",
   "execution_count": 14,
   "source": [
    "with open('multclose.pickle',mode='wb') as f:\n",
    "    pickle.dump(m_train_x,f)\n",
    "    pickle.dump(m_train_y,f)"
   ],
   "outputs": [],
   "metadata": {}
  }
 ],
 "metadata": {
  "orig_nbformat": 4,
  "language_info": {
   "name": "python",
   "version": "3.9.6",
   "mimetype": "text/x-python",
   "codemirror_mode": {
    "name": "ipython",
    "version": 3
   },
   "pygments_lexer": "ipython3",
   "nbconvert_exporter": "python",
   "file_extension": ".py"
  },
  "kernelspec": {
   "name": "python3",
   "display_name": "Python 3.9.6 64-bit ('kakukoutai': conda)"
  },
  "interpreter": {
   "hash": "c6e1090d709e7b061712c22d53f522f42162aa8b2d4d78fdc46e242892a300c1"
  }
 },
 "nbformat": 4,
 "nbformat_minor": 2
}
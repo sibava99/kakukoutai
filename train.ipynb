{
 "cells": [
  {
   "cell_type": "code",
   "execution_count": 4,
   "source": [
    "%cd ~/change\n",
    "import pickle\n",
    "import torch\n",
    "import re\n",
    "import itertools\n",
    "from transformers import BertTokenizer,BertForMaskedLM "
   ],
   "outputs": [
    {
     "output_type": "stream",
     "name": "stdout",
     "text": [
      "/home/sibava/change\n"
     ]
    }
   ],
   "metadata": {}
  },
  {
   "cell_type": "code",
   "execution_count": 37,
   "source": [
    "tokenizer = BertTokenizer.from_pretrained('cl-tohoku/bert-base-japanese-whole-word-masking')\n",
    "model = BertForMaskedLM.from_pretrained('cl-tohoku/bert-base-japanese-whole-word-masking')"
   ],
   "outputs": [
    {
     "output_type": "stream",
     "name": "stderr",
     "text": [
      "The tokenizer class you load from this checkpoint is not the same type as the class this function is called from. It may result in unexpected tokenization. \n",
      "The tokenizer class you load from this checkpoint is 'BertJapaneseTokenizer'. \n",
      "The class this function is called from is 'BertTokenizer'.\n",
      "Some weights of the model checkpoint at cl-tohoku/bert-base-japanese-whole-word-masking were not used when initializing BertForMaskedLM: ['cls.seq_relationship.bias', 'cls.seq_relationship.weight']\n",
      "- This IS expected if you are initializing BertForMaskedLM from the checkpoint of a model trained on another task or with another architecture (e.g. initializing a BertForSequenceClassification model from a BertForPreTraining model).\n",
      "- This IS NOT expected if you are initializing BertForMaskedLM from the checkpoint of a model that you expect to be exactly identical (initializing a BertForSequenceClassification model from a BertForSequenceClassification model).\n"
     ]
    }
   ],
   "metadata": {}
  },
  {
   "cell_type": "code",
   "execution_count": 46,
   "source": [
    "inputs = tokenizer('北風[MASK]吹く[MASK]',return_tensors='pt')\n",
    "labels = tokenizer('北風が吹く時',return_tensors='pt')['input_ids']\n",
    "print(inputs.input_ids)\n",
    "print(tokenizer.decode(inputs.input_ids[0]))\n",
    "outputs = model(**inputs, labels=labels)\n",
    "print(outputs)\n",
    "\n"
   ],
   "outputs": [
    {
     "output_type": "stream",
     "name": "stdout",
     "text": [
      "tensor([[   2,  210,  995,    4, 2916,  609,    4,    3]])\n",
      "[CLS] 北 風 [MASK] 吹 く [MASK] [SEP]\n",
      "MaskedLMOutput(loss=tensor(5.2131, grad_fn=<NllLossBackward>), logits=tensor([[[-6.3500,  6.8045, -4.1329,  ..., -5.1318, -6.1860, -5.9777],\n",
      "         [-5.4316,  8.6908, -4.0851,  ..., -3.9273, -5.5921, -5.7556],\n",
      "         [-4.7113,  8.8309, -4.1285,  ..., -5.0123, -8.5690, -5.9808],\n",
      "         ...,\n",
      "         [-7.4434,  6.4532, -3.4344,  ..., -5.4167, -6.0990, -8.3010],\n",
      "         [-5.5118,  7.2068, -4.2153,  ..., -4.0760, -6.1991, -6.0407],\n",
      "         [-7.2614,  6.6971, -2.7915,  ..., -4.2687, -8.4869, -9.0518]]],\n",
      "       grad_fn=<AddBackward0>), hidden_states=None, attentions=None)\n"
     ]
    }
   ],
   "metadata": {}
  }
 ],
 "metadata": {
  "orig_nbformat": 4,
  "language_info": {
   "name": "python",
   "version": "3.9.6",
   "mimetype": "text/x-python",
   "codemirror_mode": {
    "name": "ipython",
    "version": 3
   },
   "pygments_lexer": "ipython3",
   "nbconvert_exporter": "python",
   "file_extension": ".py"
  },
  "kernelspec": {
   "name": "python3",
   "display_name": "Python 3.9.6 64-bit ('kakukoutai': conda)"
  },
  "interpreter": {
   "hash": "c6e1090d709e7b061712c22d53f522f42162aa8b2d4d78fdc46e242892a300c1"
  }
 },
 "nbformat": 4,
 "nbformat_minor": 2
}
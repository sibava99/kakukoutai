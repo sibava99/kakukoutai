{
 "cells": [
  {
   "cell_type": "code",
   "execution_count": 7,
   "source": [
    "%cd ~/change\n",
    "import pickle\n",
    "from collections import Counter"
   ],
   "outputs": [
    {
     "output_type": "stream",
     "name": "stdout",
     "text": [
      "/home/sibava/change\n"
     ]
    }
   ],
   "metadata": {}
  },
  {
   "cell_type": "code",
   "execution_count": 8,
   "source": [
    "with open('mclose.pickle',mode='rb') as f:\n",
    "    train_x = pickle.load(f)\n",
    "    train_y = pickle.load(f)"
   ],
   "outputs": [],
   "metadata": {}
  },
  {
   "cell_type": "code",
   "execution_count": 9,
   "source": [
    "maj_dic = {}\n",
    "kaku_set = []"
   ],
   "outputs": [],
   "metadata": {}
  },
  {
   "cell_type": "code",
   "execution_count": 10,
   "source": [
    "for i in range(len(train_x)):\n",
    "    x = train_x[i][3]\n",
    "    y = train_y[i]\n",
    "    kaku_set.append(x + ',' + y) "
   ],
   "outputs": [],
   "metadata": {}
  },
  {
   "cell_type": "code",
   "execution_count": 11,
   "source": [
    "kaku_set = Counter(kaku_set).most_common()\n",
    "for k,v in kaku_set:\n",
    "    a1,a2 = k.split(',')\n",
    "    if (a1 in maj_dic):\n",
    "        continue\n",
    "    else:\n",
    "        maj_dic[a1] = a2"
   ],
   "outputs": [],
   "metadata": {}
  },
  {
   "cell_type": "code",
   "execution_count": 15,
   "source": [
    "counter = 0\n",
    "for i in range(len(train_x)):\n",
    "    if (maj_dic[train_x[i][3]] == train_y[i]):\n",
    "        counter += 1\n",
    "print(counter/len(train_x))"
   ],
   "outputs": [
    {
     "output_type": "stream",
     "name": "stdout",
     "text": [
      "0.8523489932885906\n"
     ]
    }
   ],
   "metadata": {}
  },
  {
   "cell_type": "markdown",
   "source": [],
   "metadata": {}
  }
 ],
 "metadata": {
  "orig_nbformat": 4,
  "language_info": {
   "name": "python",
   "version": "3.9.6",
   "mimetype": "text/x-python",
   "codemirror_mode": {
    "name": "ipython",
    "version": 3
   },
   "pygments_lexer": "ipython3",
   "nbconvert_exporter": "python",
   "file_extension": ".py"
  },
  "kernelspec": {
   "name": "python3",
   "display_name": "Python 3.9.6 64-bit ('kakukoutai': conda)"
  },
  "interpreter": {
   "hash": "c6e1090d709e7b061712c22d53f522f42162aa8b2d4d78fdc46e242892a300c1"
  }
 },
 "nbformat": 4,
 "nbformat_minor": 2
}